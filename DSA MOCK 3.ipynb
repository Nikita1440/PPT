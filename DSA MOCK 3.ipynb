{
 "cells": [
  {
   "cell_type": "markdown",
   "id": "ff192380",
   "metadata": {},
   "source": [
    "# 1\n",
    "Implement a stack using a list in Python. Include the necessary methods such as push, pop, and isEmpty.\n",
    "5 points\n"
   ]
  },
  {
   "cell_type": "code",
   "execution_count": 1,
   "id": "f32e974f",
   "metadata": {},
   "outputs": [],
   "source": [
    "class Stack:\n",
    "    def __init__(self):\n",
    "        self.stack = []\n",
    "\n",
    "    def push(self, item):\n",
    "        self.stack.append(item)\n",
    "\n",
    "    def pop(self):\n",
    "        if not self.is_empty():\n",
    "            return self.stack.pop()\n",
    "        else:\n",
    "            return None  # Alternatively, you can raise an exception for an empty stack\n",
    "\n",
    "    def is_empty(self):\n",
    "        return len(self.stack) == 0\n"
   ]
  },
  {
   "cell_type": "code",
   "execution_count": 4,
   "id": "97c847da",
   "metadata": {},
   "outputs": [
    {
     "name": "stdout",
     "output_type": "stream",
     "text": [
      "cherry\n",
      "banana\n",
      "False\n",
      "apple\n",
      "True\n"
     ]
    }
   ],
   "source": [
    "# Create an instance of the Stack class\n",
    "stack = Stack()\n",
    "\n",
    "# Push elements onto the stack\n",
    "stack.push(\"apple\")\n",
    "stack.push(\"banana\")\n",
    "stack.push(\"cherry\")\n",
    "\n",
    "# Pop elements from the stack\n",
    "print(stack.pop())  # Output: \"cherry\"\n",
    "print(stack.pop())  # Output: \"banana\"\n",
    "\n",
    "# Check if the stack is empty\n",
    "print(stack.is_empty())  # Output: False\n",
    "\n",
    "# Pop the remaining element\n",
    "print(stack.pop())  # Output: \"apple\"\n",
    "\n",
    "# Check if the stack is empty after popping all elements\n",
    "print(stack.is_empty())  # Output: True\n"
   ]
  },
  {
   "cell_type": "markdown",
   "id": "d33b5e3c",
   "metadata": {},
   "source": [
    "# 2\n",
    "Implement a queue using a list in Python. Include the necessary methods such as enqueue, dequeue, and isEmpty.\n",
    "5 points\n",
    "Never"
   ]
  },
  {
   "cell_type": "code",
   "execution_count": 2,
   "id": "2540f23c",
   "metadata": {},
   "outputs": [],
   "source": [
    "class Queue:\n",
    "    def __init__(self):\n",
    "        self.queue = []\n",
    "\n",
    "    def enqueue(self, item):\n",
    "        self.queue.append(item)\n",
    "\n",
    "    def dequeue(self):\n",
    "        if not self.is_empty():\n",
    "            return self.queue.pop(0)\n",
    "        else:\n",
    "            return None  # Alternatively, you can raise an exception for an empty queue\n",
    "\n",
    "    def is_empty(self):\n",
    "        return len(self.queue) == 0\n"
   ]
  },
  {
   "cell_type": "code",
   "execution_count": 3,
   "id": "c530a380",
   "metadata": {},
   "outputs": [
    {
     "name": "stdout",
     "output_type": "stream",
     "text": [
      "apple\n",
      "banana\n",
      "False\n",
      "cherry\n",
      "True\n"
     ]
    }
   ],
   "source": [
    "# Create an instance of the Queue class\n",
    "queue = Queue()\n",
    "\n",
    "# Enqueue elements to the queue\n",
    "queue.enqueue(\"apple\")\n",
    "queue.enqueue(\"banana\")\n",
    "queue.enqueue(\"cherry\")\n",
    "\n",
    "# Dequeue elements from the queue\n",
    "print(queue.dequeue())  # Output: \"apple\"\n",
    "print(queue.dequeue())  # Output: \"banana\"\n",
    "\n",
    "# Check if the queue is empty\n",
    "print(queue.is_empty())  # Output: False\n",
    "\n",
    "# Dequeue the remaining element\n",
    "print(queue.dequeue())  # Output: \"cherry\"\n",
    "\n",
    "# Check if the queue is empty after dequeueing all elements\n",
    "print(queue.is_empty())  # Output: True\n"
   ]
  },
  {
   "cell_type": "code",
   "execution_count": null,
   "id": "b539210e",
   "metadata": {},
   "outputs": [],
   "source": []
  }
 ],
 "metadata": {
  "kernelspec": {
   "display_name": "Python 3 (ipykernel)",
   "language": "python",
   "name": "python3"
  },
  "language_info": {
   "codemirror_mode": {
    "name": "ipython",
    "version": 3
   },
   "file_extension": ".py",
   "mimetype": "text/x-python",
   "name": "python",
   "nbconvert_exporter": "python",
   "pygments_lexer": "ipython3",
   "version": "3.10.9"
  }
 },
 "nbformat": 4,
 "nbformat_minor": 5
}
